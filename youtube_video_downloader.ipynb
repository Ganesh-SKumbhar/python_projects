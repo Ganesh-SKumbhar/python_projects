{
 "cells": [
  {
   "cell_type": "code",
   "execution_count": null,
   "id": "c1607798",
   "metadata": {},
   "outputs": [],
   "source": [
    "# pip install pytube"
   ]
  },
  {
   "cell_type": "code",
   "execution_count": 1,
   "id": "5b566136",
   "metadata": {},
   "outputs": [
    {
     "data": {
      "text/plain": [
       "'C:\\\\Users\\\\pruthvi katware\\\\PycharmProjects\\\\My_projects\\\\Nature Beautiful short video 720p HD.mp4'"
      ]
     },
     "execution_count": 1,
     "metadata": {},
     "output_type": "execute_result"
    }
   ],
   "source": [
    "from pytube import YouTube\n",
    "#YouTube('https://www.youtube.com/watch?v=668nUCeBHyY').streams.first().download()\n",
    "\n",
    "yt = YouTube('https://www.youtube.com/watch?v=668nUCeBHyY')\n",
    "\n",
    "yt.streams.filter(progressive=True, file_extension='mp4',resolution='360p').first().download()\n",
    "\n",
    "\n"
   ]
  },
  {
   "cell_type": "code",
   "execution_count": null,
   "id": "fa0eef22",
   "metadata": {},
   "outputs": [],
   "source": []
  }
 ],
 "metadata": {
  "kernelspec": {
   "display_name": "Python 3 (ipykernel)",
   "language": "python",
   "name": "python3"
  },
  "language_info": {
   "codemirror_mode": {
    "name": "ipython",
    "version": 3
   },
   "file_extension": ".py",
   "mimetype": "text/x-python",
   "name": "python",
   "nbconvert_exporter": "python",
   "pygments_lexer": "ipython3",
   "version": "3.9.12"
  }
 },
 "nbformat": 4,
 "nbformat_minor": 5
}
