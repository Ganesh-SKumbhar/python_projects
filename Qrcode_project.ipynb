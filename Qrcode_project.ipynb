{
 "cells": [
  {
   "cell_type": "code",
   "execution_count": 1,
   "id": "64b1a792",
   "metadata": {},
   "outputs": [
    {
     "data": {
      "image/png": "[encoded data removed]",
      "text/plain": [
       "<PIL.PngImagePlugin.PngImageFile image mode=P size=186x186 at 0x20B7EB068B0>"
      ]
     },
     "execution_count": 1,
     "metadata": {},
     "output_type": "execute_result"
    }
   ],
   "source": [
    "import pyqrcode\n",
    "import png\n",
    "from PIL import Image\n",
    "\n",
    "# data to be shown when QR code is Scanned\n",
    "data = 'Python QR Code'\n",
    "\n",
    "\n",
    "# generating QR code\n",
    "info = pyqrcode.create(data)\n",
    "\n",
    "# setting attributes\n",
    "info.png('myqrcode1.png',scale=6,module_color=(139,34,82, 255),background=(235,238,238),quiet_zone=3)\n",
    "\n",
    "# open QR code\n",
    "Image.open('myqrcode1.png')\n"
   ]
  },
  {
   "cell_type": "code",
   "execution_count": null,
   "id": "6e3ae91f",
   "metadata": {},
   "outputs": [],
   "source": []
  },
  {
   "cell_type": "code",
   "execution_count": null,
   "id": "cc757171",
   "metadata": {},
   "outputs": [],
   "source": []
  }
 ],
 "metadata": {
  "kernelspec": {
   "display_name": "Python 3 (ipykernel)",
   "language": "python",
   "name": "python3"
  },
  "language_info": {
   "codemirror_mode": {
    "name": "ipython",
    "version": 3
   },
   "file_extension": ".py",
   "mimetype": "text/x-python",
   "name": "python",
   "nbconvert_exporter": "python",
   "pygments_lexer": "ipython3",
   "version": "3.9.12"
  }
 },
 "nbformat": 4,
 "nbformat_minor": 5
}
